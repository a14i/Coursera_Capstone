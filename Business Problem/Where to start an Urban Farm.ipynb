{
 "cells": [
  {
   "cell_type": "markdown",
   "metadata": {},
   "source": [
    "# Where to start an Urban Farm in Silang Cavite, Philippines? (#1)"
   ]
  },
  {
   "cell_type": "markdown",
   "metadata": {},
   "source": [
    "The goal is to determine where in Silang, Cavite would be ideal to start an urban farm that is as close to other urban functions as possible.\n",
    "\n",
    "This study is controlled, so we don't consider the legal problems with starting a farm, but if there's anything real here is that, maybe I can convince people who own lands that they don't use to start an urban farm for the betterment of our country  as a whole in a way they earn money too starting with one city at a time. \n",
    "\n",
    "### Beneficiaries\n",
    "\n",
    "1. **People** - produce is expensive in general,  they are bought from farmers for a small price and sold to the people sky high. Having more urban farms in the Philippines will give people in the city of Dasmariñas an opportunity to buy produce at a cheaper price while directly supporting the farmers.\n",
    "2. **Entrepreneurs** - that don't produce their own materials/ingredients are able to minimize costs and allocate them for maintenance or projects that will improve their businesses.\n",
    "3. **Earth** - more farms means more trees and plantations, more trees and plantations mean a cooler and more sustainable, hence a more habitable Earth.\n",
    "\n",
    "### Why you should care about my problem?\n",
    "\n",
    "Our country does not emphasize agriculture, hence the high poverty that people here experience on a daily basis. It would be wrong to JUST blame the government when some people considering what type of business they should get involved with could. It would be a game changer for my country. \n",
    "\n"
   ]
  }
 ],
 "metadata": {
  "kernelspec": {
   "display_name": "Python 3",
   "language": "python",
   "name": "python3"
  },
  "language_info": {
   "codemirror_mode": {
    "name": "ipython",
    "version": 3
   },
   "file_extension": ".py",
   "mimetype": "text/x-python",
   "name": "python",
   "nbconvert_exporter": "python",
   "pygments_lexer": "ipython3",
   "version": "3.7.4"
  }
 },
 "nbformat": 4,
 "nbformat_minor": 2
}
