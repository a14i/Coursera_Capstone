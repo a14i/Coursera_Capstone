{
 "cells": [
  {
   "cell_type": "markdown",
   "metadata": {
    "collapsed": true
   },
   "source": [
    "# Capstone Project - The Battle of the Neighborhoods (Week 2)\n",
    "### Applied Data Science Capstone by IBM/Coursera"
   ]
  },
  {
   "cell_type": "markdown",
   "metadata": {},
   "source": [
    "## Table of contents\n",
    "* [Introduction: Business Problem](#introduction)\n",
    "* [Data](#data)\n",
    "* [Methodology](#methodology)\n",
    "* [Analysis](#analysis)\n",
    "* [Results and Discussion](#results)\n",
    "* [Conclusion](#conclusion)"
   ]
  },
  {
   "cell_type": "markdown",
   "metadata": {},
   "source": [
    "\n",
    "\n",
    "## Introduction: Business Problem <a name=\"introduction\"></a>"
   ]
  },
  {
   "cell_type": "markdown",
   "metadata": {},
   "source": [
    "The goal is to determine where in Silang, Cavite would be ideal to start an urban farm that is as close to other urban functions as possible.\n",
    "\n",
    "This study is controlled, so we don't consider the legal problems with starting a farm, but if there's anything real here is that, maybe I can convince people who own lands that they don't use to start an urban farm for the betterment of our country  as a whole in a way they earn money too starting with one city at a time. \n",
    "\n",
    "### Beneficiaries\n",
    "\n",
    "1. **People** - produce is expensive in general,  they are bought from farmers for a small price and sold to the people sky high. Having more urban farms in the Philippines will give people in the city of Dasmariñas an opportunity to buy produce at a cheaper price while directly supporting the farmers.\n",
    "2. **Entrepreneurs** - that don't produce their own materials/ingredients are able to minimize costs and allocate them for maintenance or projects that will improve their businesses.\n",
    "3. **Earth** - more farms means more trees and plantations, more trees and plantations mean a cooler and more sustainable, hence a more habitable Earth.\n",
    "\n",
    "### Why you should care about my problem?\n",
    "\n",
    "Our country does not emphasize agriculture, hence the high poverty that people here experience on a daily basis. It would be wrong to JUST blame the government when some people considering what type of business they should get involved with could. It would be a game changer for my country. "
   ]
  },
  {
   "cell_type": "markdown",
   "metadata": {},
   "source": [
    "## Data <a name=\"data\"></a>"
   ]
  },
  {
   "cell_type": "markdown",
   "metadata": {},
   "source": [
    "1. **Business Understanding** - The goal is to find areas in Silang Cavite where it would be ideal to start an urban farm. The goal is profitability because we give future-farmers opportunity to plant in-demand crops where people would most need them.\n",
    "\n",
    "2. **Analytical Approach** - I'm going to use a clustering model to categorize which areas are ideal (IDEAL and NOT_IDEAL). The model will output the top five areas in Silang Cavite where it would be most ideal to start an urban farm.\n",
    "\n",
    "3. **Data Requirements and Data Understanding** - I need location data that would say which areas are suitable for planting in terms of temperature and weather. The location would need to be close to markets to sell ingredients to since the farm will most likely sell produce, access to water, soil quality (though, I'm not sure if foursquare can provide this). I also need to assume the distance of the farm, which will be disclosed at part 2 as it's something that needs experimentation. The source is most liekely gathered foursquare.\n",
    "\n",
    "4. **Data Understanding and Data Preparation** - To justify the mentioned variables above, algorithms that compute their correlation and accuracy are needed, some data might not be available at the moment, or not available at all, some may be discarded or replaced with a random value, normalizing the data and turning categorical variables into quantities is needed too.\n",
    "\n",
    "5. **Modelling and Evaluation** - This isn't a predictive model, so a training set might not be needed, it just needs to classify ideal areas for farming based on given variables without supervision. There might be computations to determine error and accuracy, the goal is to minimize the former and maximize the latter.\n"
   ]
  },
  {
   "cell_type": "markdown",
   "metadata": {},
   "source": [
    "## Methodology <a name=\"methodology\"></a>"
   ]
  },
  {
   "cell_type": "markdown",
   "metadata": {},
   "source": [
    "In this project we will direct our efforts on detecting areas of Silang --- markets in perticular. We will limit our analysis to area ~10km around city center.\n",
    "\n",
    "In first step we have collected the required **data: location and type (category) of every restaurant within 10km from Silang**.\n",
    "\n",
    "Second step in our analysis will be to get individual data of each location to get the likes, categories, and tips.\n",
    "\n",
    "In third and final step we will focus on most promising areas and within those create **clusters of locations that meet some basic requirements** We will present map of all such locations but also create clusters (using **k-means clustering**) of those locations to identify general zones / neighborhoods / addresses which should be a starting point for final 'street level' exploration and search for optimal venue location by stakeholders."
   ]
  },
  {
   "cell_type": "markdown",
   "metadata": {},
   "source": [
    "## Results and Discussion <a name=\"results\"></a>"
   ]
  },
  {
   "cell_type": "markdown",
   "metadata": {},
   "source": [
    "There isn't much to show except that it's ideal to start a farm near Farmers Markets. I couldn't get the weather and temperature data and that there isn't much data to be extrapolated from what I gathered."
   ]
  },
  {
   "cell_type": "markdown",
   "metadata": {},
   "source": [
    "## Conclusion <a name=\"conclusion\"></a>"
   ]
  },
  {
   "cell_type": "markdown",
   "metadata": {},
   "source": [
    "The purpose of this project was to determine if a place is ideal to start a farm, but the scope was too little, so there's not much to say..."
   ]
  },
  {
   "cell_type": "code",
   "execution_count": null,
   "metadata": {},
   "outputs": [],
   "source": []
  }
 ],
 "metadata": {
  "kernelspec": {
   "display_name": "Python 3",
   "language": "python",
   "name": "python3"
  },
  "language_info": {
   "codemirror_mode": {
    "name": "ipython",
    "version": 3
   },
   "file_extension": ".py",
   "mimetype": "text/x-python",
   "name": "python",
   "nbconvert_exporter": "python",
   "pygments_lexer": "ipython3",
   "version": "3.7.4"
  }
 },
 "nbformat": 4,
 "nbformat_minor": 1
}
