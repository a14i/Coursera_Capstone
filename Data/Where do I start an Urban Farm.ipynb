{
 "cells": [
  {
   "cell_type": "markdown",
   "metadata": {},
   "source": [
    "# Approach to solving the problem using CRISP-DM (#2)"
   ]
  },
  {
   "cell_type": "markdown",
   "metadata": {},
   "source": [
    "1. **Business Understanding** - The goal is to find areas in Silang Cavite where it would be ideal to start an urban farm. The goal is profitability because we give future-farmers opportunity to plant in-demand crops where people would most need them.\n",
    "\n",
    "2. **Analytical Approach** - I'm going to use a clustering model to categorize which areas are ideal (IDEAL and NOT_IDEAL). The model will output the top five areas in Silang Cavite where it would be most ideal to start an urban farm.\n",
    "\n",
    "3. **Data Requirements and Data Understanding** - I need location data that would say which areas are suitable for planting in terms of temperature and weather. The location would need to be close to markets to sell ingredients to since the farm will most likely sell produce, access to water, soil quality (though, I'm not sure if foursquare can provide this). I also need to assume the distance of the farm, which will be disclosed at part 2 as it's something that needs experimentation. The source is most liekely gathered foursquare.\n",
    "\n",
    "4. **Data Understanding and Data Preparation** - To justify the mentioned variables above, algorithms that compute their correlation and accuracy are needed, some data might not be available at the moment, or not available at all, some may be discarded or replaced with a random value, normalizing the data and turning categorical variables into quantities is needed too.\n",
    "\n",
    "5. **Modelling and Evaluation** - This isn't a predictive model, so a training set might not be needed, it just needs to classify ideal areas for farming based on given variables without supervision. There might be computations to determine error and accuracy, the goal is to minimize the former and maximize the latter.\n"
   ]
  },
  {
   "cell_type": "code",
   "execution_count": null,
   "metadata": {},
   "outputs": [],
   "source": []
  }
 ],
 "metadata": {
  "kernelspec": {
   "display_name": "Python 3",
   "language": "python",
   "name": "python3"
  },
  "language_info": {
   "codemirror_mode": {
    "name": "ipython",
    "version": 3
   },
   "file_extension": ".py",
   "mimetype": "text/x-python",
   "name": "python",
   "nbconvert_exporter": "python",
   "pygments_lexer": "ipython3",
   "version": "3.7.4"
  }
 },
 "nbformat": 4,
 "nbformat_minor": 2
}
